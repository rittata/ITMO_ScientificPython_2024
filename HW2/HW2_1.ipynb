{
  "nbformat": 4,
  "nbformat_minor": 0,
  "metadata": {
    "colab": {
      "provenance": []
    },
    "kernelspec": {
      "name": "python3",
      "display_name": "Python 3"
    },
    "language_info": {
      "name": "python"
    }
  },
  "cells": [
    {
      "cell_type": "code",
      "source": [
        "import requests, sys, json, re"
      ],
      "metadata": {
        "id": "7F0y88hRMx6K"
      },
      "execution_count": 30,
      "outputs": []
    },
    {
      "cell_type": "code",
      "source": [
        "def get_ensembl(ids: list):\n",
        "    url = \"https://rest.ensembl.org/lookup/id\"\n",
        "    https_args = {\"Content-Type\" : \"application/json\", \"Accept\" : \"application/json\"}\n",
        "    json_ids = json.dumps({\"ids\": ids})\n",
        "    https_function = requests.post(url, headers=https_args, data=json_ids)\n",
        "    return https_function\n",
        "\n",
        "def parse_response_ensembl(response: dict):\n",
        "    resp = response.json()\n",
        "    output = {}\n",
        "    for val in resp:\n",
        "        display_name = resp[val]['display_name']\n",
        "        species = resp[val]['species']\n",
        "        description = resp[val]['description']\n",
        "        output[val] = {'gene':display_name, 'organism':species, 'geneInfo':description, 'type': 'gene'}\n",
        "    return output\n",
        "\n",
        "id_list =  [\"ENSMUSG00000041147\", \"ENSG00000139618\"]\n",
        "response = get_ensembl(id_list)\n",
        "parsed_data = parse_response_ensembl(response)\n",
        "parsed_data"
      ],
      "metadata": {
        "colab": {
          "base_uri": "https://localhost:8080/"
        },
        "id": "TYVAq3bPB0ly",
        "outputId": "f61cecc3-3f3f-4831-d2d6-cc18bba2fd8f"
      },
      "execution_count": 53,
      "outputs": [
        {
          "output_type": "execute_result",
          "data": {
            "text/plain": [
              "{'ENSG00000139618': {'gene': 'BRCA2',\n",
              "  'organism': 'homo_sapiens',\n",
              "  'geneInfo': 'BRCA2 DNA repair associated [Source:HGNC Symbol;Acc:HGNC:1101]',\n",
              "  'type': 'gene'},\n",
              " 'ENSMUSG00000041147': {'gene': 'Brca2',\n",
              "  'organism': 'mus_musculus',\n",
              "  'geneInfo': 'breast cancer 2, early onset [Source:MGI Symbol;Acc:MGI:109337]',\n",
              "  'type': 'gene'}}"
            ]
          },
          "metadata": {},
          "execution_count": 53
        }
      ]
    },
    {
      "cell_type": "code",
      "execution_count": 54,
      "metadata": {
        "colab": {
          "base_uri": "https://localhost:8080/"
        },
        "id": "V79gOlCpBnsG",
        "outputId": "ee342ffd-1efc-453a-c6eb-5068d491edc7"
      },
      "outputs": [
        {
          "output_type": "stream",
          "name": "stdout",
          "text": [
            "{'P11473': {'organism': 'Homo sapiens', 'gene': 'VDR', 'lenght': 427, 'type': 'protein'}, 'Q91XI3': {'organism': 'Ictidomys tridecemlineatus', 'gene': 'INS', 'lenght': 110, 'type': 'protein'}}\n"
          ]
        }
      ],
      "source": [
        "def get_uniprot(ids: list):\n",
        "    accessions = ','.join(ids)\n",
        "    url = \"https://rest.uniprot.org/uniprotkb/accessions\"\n",
        "    http_function = requests.get\n",
        "    http_args = {'params': {'accessions': accessions}}\n",
        "    return http_function(url, **http_args)\n",
        "\n",
        "def parse_response_uniprot(resp: dict):\n",
        "    resp = resp.json()\n",
        "    resp = resp[\"results\"]\n",
        "    output = {}\n",
        "    for val in resp:\n",
        "        acc = val['primaryAccession']\n",
        "        species = val['organism']['scientificName']\n",
        "        gene = val['genes'][0]['geneName']['value']\n",
        "        seq = val['sequence']['length']\n",
        "        output[acc] = {'organism':species, 'gene':gene, 'lenght':seq, 'type': 'protein'}\n",
        "    return output\n",
        "\n",
        "my_ids = ['P11473', 'Q91XI3']\n",
        "resp = get_uniprot(my_ids)\n",
        "parsed_data = parse_response_uniprot(resp)\n",
        "print(parsed_data)"
      ]
    },
    {
      "cell_type": "code",
      "source": [
        "def process_ids(db_ids):\n",
        "\n",
        "    uniprot_pattern = r'^[OPQ]\\d{5}$'\n",
        "    ensembl_pattern = r\"^(ENS[A-Z0-9]+)\"\n",
        "    id_0 = db_ids[0]\n",
        "\n",
        "    if re.match(uniprot_pattern, id_0):\n",
        "        response = get_uniprot(db_ids)\n",
        "        output = parse_response_uniprot(response)\n",
        "\n",
        "    elif re.match(ensembl_pattern, id_0):\n",
        "        response = get_ensembl(db_ids)\n",
        "        output = parse_response_ensembl(response)\n",
        "\n",
        "    else:\n",
        "        output = \"Error: input pattern doesn't match uniport or ensembl pattern\"\n",
        "\n",
        "    return output\n",
        "\n",
        "\n",
        "id_list_1 = [\"ENSMUSG00000041147\", \"ENSG00000139618\"]\n",
        "id_list_2 = ['P11473', 'Q91XI3']\n",
        "print(process_ids(id_list_1))\n",
        "print(process_ids(id_list_2))"
      ],
      "metadata": {
        "colab": {
          "base_uri": "https://localhost:8080/"
        },
        "id": "zv1m1Ov3M0gB",
        "outputId": "63c93d64-100f-4796-b899-10a1c4bfa930"
      },
      "execution_count": 64,
      "outputs": [
        {
          "output_type": "stream",
          "name": "stdout",
          "text": [
            "{'ENSG00000139618': {'gene': 'BRCA2', 'organism': 'homo_sapiens', 'geneInfo': 'BRCA2 DNA repair associated [Source:HGNC Symbol;Acc:HGNC:1101]', 'type': 'gene'}, 'ENSMUSG00000041147': {'gene': 'Brca2', 'organism': 'mus_musculus', 'geneInfo': 'breast cancer 2, early onset [Source:MGI Symbol;Acc:MGI:109337]', 'type': 'gene'}}\n",
            "{'P11473': {'organism': 'Homo sapiens', 'gene': 'VDR', 'lenght': 427, 'type': 'protein'}, 'Q91XI3': {'organism': 'Ictidomys tridecemlineatus', 'gene': 'INS', 'lenght': 110, 'type': 'protein'}}\n"
          ]
        }
      ]
    },
    {
      "cell_type": "code",
      "source": [],
      "metadata": {
        "id": "7Amg0clYT0Zt"
      },
      "execution_count": null,
      "outputs": []
    }
  ]
}